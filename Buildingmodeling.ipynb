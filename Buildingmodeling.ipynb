{
 "cells": [
  {
   "attachments": {},
   "cell_type": "markdown",
   "id": "3eb6372e",
   "metadata": {},
   "source": [
    "# Dynamic Models for Building Energy Management\n",
    "\n",
    "## Thermal models of a building: simple 2 rooms\n",
    "\n",
    "### BE SMART CITIES\n",
    "### Supervisor: Christian Ghiaus\n",
    "### Submitted by: Raval Khushboo, Tayara Tarek, Vizcaino Diego, and Hamami Bayan\n"
   ]
  },
  {
   "attachments": {},
   "cell_type": "markdown",
   "id": "dd09d492-4c1d-422d-9a88-55f8631e5836",
   "metadata": {
    "tags": []
   },
   "source": [
    "## Introduction \n",
    "The aim of this project is to model the heat exchange of 2 rooms inside a building, to understand the thermal behavior of it. Nowadays, energy efficiency is a key pillar of the net-zero race, and building thermal modeling is a subject which has gained relevance. The limitations of this discipline is strongly correlated to the decarbonization targets set by governments. The building sector represents around 44% of the final energy consumption in France, meaning there is a huge potential for energy savings if thermal improvements are put in place. An in-depth understanding of a thermal model of a building is relevant to improve its overall efficiency. "
   ]
  },
  {
   "attachments": {},
   "cell_type": "markdown",
   "id": "5c8833ad",
   "metadata": {},
   "source": [
    "## Physical Model \n",
    "\n",
    "### Hyphotesis\n",
    "The report examines the thermal model-based building energy calculations. The following presumptions are included: \n",
    "- This model excludes the floor and ceiling heat transfer\n",
    "- Inner building surroundings to the rooms are considered neglectable, having only heat transfer from the outside and in between room 1 and 2\n",
    "- All forms of heat transmission are addressed linearly, even radiative exchange\n",
    "- Heat transport is unidirectional since the length and height of a wall is much bigger than the width \n",
    "- It is assumed that the temperature is distributed equally throughout each surface\n",
    "- No conduction is assumed in doors and windows\n",
    "\n",
    "\n",
    "### Description of the 2 rooms \n",
    "For this case study, we modeled 2 rooms, 42 and 36 $m^2$, respectively, separated by an internal door. Both rooms will have a window to the exterior, room 1 a door connecting to the outside, and room 2 will have mechanical ventilation. The diagram is exposed in Figure 1. \n",
    "\n",
    "![cube](https://github.com/dm4bem-2023/3-simulate-step-response-sgb_g2/blob/main/Building-Final.jpg)\n",
    "> Figure 1. Simple 2 ventilated rooms (2 two-layer outdoor walls, 1 two-layer indoor wall, 1 glass window, and 2 doors) equiped with an HVAC system which acts as a proportional controller.\n",
    "\n",
    "#### Material and building components\n",
    "According to the assumptions made before, heat transfer is only due to vertical walls, that is the exterior walls and interior wall separating the 2 rooms. 2 materials for the walls were taken, concrete and insulation layers. The only difference between exterior and interior walls is the thickness of the layers as described below: \n",
    "\n",
    "![cube](./figures/03_cube_principle.svg)\n",
    "> Figure 2. Exterior wall characteristics \n",
    "\n",
    "![cube](./figures/03_cube_principle.svg)\n",
    "> Figure 3. Interior wall characteristics \n",
    "\n"
   ]
  },
  {
   "attachments": {},
   "cell_type": "markdown",
   "id": "d101012e-cfec-4e3d-9268-03e8cc68fceb",
   "metadata": {
    "tags": []
   },
   "source": [
    "The dimensions and surface areas of the building are:\n",
    "- $l=3 \\: \\mathrm{m}$ - edge length of the cube;\n",
    "- $S_g=l^2$   - surface area of the glass window;\n",
    "- $S_c = S_i = 5 \\times S_g$   - surface area of the 5 (concrete and insulation) walls."
   ]
  },
  {
   "attachments": {},
   "cell_type": "markdown",
   "id": "04249e0b-1f3d-47f5-b8f7-024135cda83b",
   "metadata": {},
   "source": [
    "### Thermo-physical properties\n",
    "The thermophysical properties of the air (in SI units) are:"
   ]
  },
  {
   "attachments": {},
   "cell_type": "markdown",
   "id": "55dcaa59-47e6-4fbd-9c42-ad843a62b4d6",
   "metadata": {},
   "source": [
    "The [thermophysical properties](https://energieplus-lesite.be/donnees/enveloppe44/enveloppe2/conductivite-thermique-des-materiaux/) ([thermal conductivities](https://en.m.wikipedia.org/wiki/List_of_thermal_conductivities), [densities](https://en.wikipedia.org/wiki/Density) and [specific heat capacities](https://en.m.wikipedia.org/wiki/Table_of_specific_heat_capacities)) and the geometry (widths and surface areas) of the three materials (i.e., concrete, insulation, glass) in SI units are:"
   ]
  },
  {
   "attachments": {},
   "cell_type": "markdown",
   "id": "7999a5df-05f3-4f8a-a1e3-7106dca8222e",
   "metadata": {
    "tags": []
   },
   "source": [
    "## Thermal circuit\n",
    "\n",
    "Heat transfert is:\n",
    "- through the walls (concrete and insulation), \n",
    "- through the glass window,\n",
    "- by ventilation,\n",
    "- from indoor auxiliary sources,\n",
    "- from the HVAC system.\n",
    "\n",
    "The HVAC system is modelled as a proportional controller. There is long wave radiative exchange between the wall and the glass window. The sources are:\n",
    "- temperature sources:\n",
    "    - outdoor atmospheric air;\n",
    "    - indoor air temperature setpoint;\n",
    "- flow rate sources:\n",
    "    - solar radiation on the outdoor and the indoor walls;\n",
    "    - auxiliary heat gains in the thermal zone.\n",
    "\n",
    "![heat_processes](./figures/03_heat_process.svg)\n",
    "> Figure 2. Heat processes for the cubic building shown in Figure 1.\n",
    "\n",
    "![thermal_circuit](./figures/03_therm_circ.svg)\n",
    "> Figure 3. Thermal circuit for the cubic building shown in Figure 1 and the heat processes shown in Figure 2. *Note*: space discretization of the walls is done for simplicity."
   ]
  },
  {
   "attachments": {},
   "cell_type": "markdown",
   "id": "4cad06cc-972a-4a7f-859c-4b5de7a1e72d",
   "metadata": {
    "tags": []
   },
   "source": [
    "Figure 3 shows the models of:\n",
    "- concrete & insulation wall: in red;\n",
    "- glass window: in green;\n",
    "- ventilation: in magenta;\n",
    "- indoor volume: in blue (conductances 6 & 7 for convection; conductance 5 for long wave radiation between the walls and the glass window);\n",
    "- HVAC system: in black.\n",
    "\n",
    "The sources are:\n",
    "- $T_o$ - outdoor temperature, °C;\n",
    "- $T_{i,sp}$ - setpoint temperaure for the indoor air, °C;\n",
    "- $\\Phi_o$ - solar radiation absorbed by the outdoor surface of the wall, W;\n",
    "- $\\Phi_i$ - solar radiation absorbed by the indoor surface of the wall, W;\n",
    "- $\\dot{Q}_a$ - auxiliary heat gains (i.e., occupants, electrical devices, etc.), W;\n",
    "- $\\Phi_a$ - solar radiation absorbed by the glass, W.\n",
    "\n",
    "\n",
    "*Note*: The known values, i.e. the elements of the circuit (the conductances $G$ and capacities $C$) and the sources (of temperature $T$ and of flow rate $\\Phi$ or $\\dot{Q}$) are noted in uppercase (majuscule) letters. The unknow variables, i.e. the temperatures in the nodes $\\theta$ and the flow rates on the branches $q$, are noted in lowercase (minuscule) letters."
   ]
  },
  {
   "attachments": {},
   "cell_type": "markdown",
   "id": "3d80e066-38d0-4ca2-b193-0a9f06c26499",
   "metadata": {
    "tags": []
   },
   "source": [
    "### Thermal coductances\n",
    "#### Conduction\n",
    "The conductances 1, 2, 3, and 4 of the thermal circuit from Figure 3 model the heat transfer by [conduction](https://en.m.wikipedia.org/wiki/Thermal_conduction). Conduction conductances, in W/K, are of the form:\n",
    "$$G_{cd} = \\frac{\\lambda}{w}S$$\n",
    "where:\n",
    "\n",
    "- $\\lambda$ - [thermal conductvity](https://en.m.wikipedia.org/wiki/Thermal_conductivity), W/(m⋅K);\n",
    "- $w$ - width of the material, m;\n",
    "- $S$ - surface area of the wall, m²."
   ]
  },
  {
   "attachments": {},
   "cell_type": "markdown",
   "id": "58c9a68d-ff08-45bf-913a-814fc9aa0f79",
   "metadata": {
    "tags": []
   },
   "source": [
    "#### Convection\n",
    "The conductances 0, 6 and 7 model the heat transfer by [convection](https://en.m.wikipedia.org/wiki/Convection_(heat_transfer). Convection conductances, in W/K, are of the form:\n",
    "$$G_{cv} = {h S}$$\n",
    "where:\n",
    "- $h$ is the [convection coefficient](https://en.m.wikipedia.org/wiki/Heat_transfer_coefficient), W/(m²⋅K);\n",
    "- $S$ - surface area of the wall, m². "
   ]
  },
  {
   "attachments": {},
   "cell_type": "markdown",
   "id": "b800939e-8a50-45f9-83ef-e5cc98fe7c63",
   "metadata": {
    "tags": []
   },
   "source": [
    "#### Long wave radiation\n",
    "##### View factors inside the building\n",
    "\n",
    "The majority of methods used for modelling the [radiative heat exchange](https://en.m.wikipedia.org/wiki/Thermal_radiation) use the [view factors](https://en.m.wikipedia.org/wiki/View_factor) between surfaces. The view factor $F_{i,j}$ is defined as *the proportion of radiation leaving surface $i$ that is intercepted by surface $j$*. The view factors can be estimated by [differential areas](https://en.m.wikipedia.org/wiki/View_factor#View_factors_of_differential_areas) or for different configurations of surfaces [[5](http://www.thermalradiation.net/indexCat.html)].\n",
    "\n",
    "The view factors need to satisfy the [summation rule](https://en.m.wikipedia.org/wiki/View_factor#Summation_of_view_factors) \n",
    "$$\\sum_{j=0}^{n-1} F_{i,j} = 1$$\n",
    "and the [reciprocity theorem](https://en.wikipedia.org/wiki/View_factor#Reciprocity):\n",
    "$$F_{i,j} S_i = F_{j,i} S_j$$\n",
    "where $S_{i}$ and $S_{j}$ are the surface areas.\n",
    "\n",
    "For a [convex](https://en.m.wikipedia.org/wiki/Convex_function) surface $i$, the [self-viewing factor](https://en.wikipedia.org/wiki/View_factor#Self-viewing_surfaces) is zero,\n",
    "$$F_{i,i} = 0$$\n",
    "\n",
    "Two simplified relations are used to calculate the view factors for buildings.\n",
    "\n",
    "In the first one, the view factors are defined by:\n",
    "$$\\begin{cases}\n",
    "F_{i,j} = \\frac{S_i}{S_T}\\\\ \n",
    "F_{i,i} = 0\n",
    "\\end{cases}$$\n",
    "\n",
    "where $S_{T} = \\sum_{j=0}^{n-1} S_j$, i.e. the surface $S_j$ is included in the total surface $S_T$. In this method, the reciprocity theorem is satisfied,\n",
    "$$F_{i,j} S_i = F_{j,i} S_j = \\frac{S_i S_j}{S_T}$$\n",
    "but summation rule isn't,\n",
    "$$\\sum_{j=0}^{n-1} F_{i,j} = \\sum_{j=0, j \\neq i}^{n-1} \\frac{S_j}{S_T} = \\frac {S_T - S_i}{S_T} \\neq 1$$\n",
    "\n",
    "In this case, the heat balance for each surface would be wrong.\n",
    "\n",
    "In the second one, the view factors are defined by:\n",
    "$$\\begin{cases}\n",
    "F_{i,j} = \\frac{S_j}{S_T -S_i}\\\\ \n",
    "F_{i,i} = 0\n",
    "\\end{cases}$$\n",
    "\n",
    "where $S_{T} = \\sum_{j=0}^{n-1} S_j$, i.e. the surface $S_i$ is not included in the total surface $S_{T,i} = S_T - S_i$. \n",
    "\n",
    "In this case, the reciprocty theorem is generally not respected:\n",
    "$$F_{i, j} S_i = \\frac{S_j}{S_T - S_i} S_i \\neq F_{j, i} S_j = \\frac{S_i}{S_T - S_j} S_j$$\n",
    "but the summation rule is respected:\n",
    "$$ \\sum_{i=0}^{n-1} F_{i, j} = \\frac{1}{S_T - S_i} \\sum_{\\substack{j=0\\\\i\\neq j}}^{n-1} S_j = 1 $$"
   ]
  },
  {
   "attachments": {},
   "cell_type": "markdown",
   "id": "456ebb01-0e0e-41f5-9484-34a2496b2e13",
   "metadata": {},
   "source": [
    "Note: The view factor between two surfaces, $j,k$ that are in the same plan (e.g. a window and a wall) is zero,\n",
    "$$F_{j,k} = F_{k,j}=0$$\n",
    "\n",
    "Therefore the total surface $S_{T,i}$ should be:\n",
    "$$S_{T,i} = \\sum_{j=0}^{n-1} S_j - \\sum_k S_k$$\n",
    "i.e. the surfaces $S_k$ in the same plan with the surface $S_i$ are not included in $S_{T,i}$."
   ]
  },
  {
   "attachments": {},
   "cell_type": "markdown",
   "id": "b9f00e69-9bae-4b7e-bf1d-afddce3c206a",
   "metadata": {},
   "source": [
    "##### View factor between tilted outdoor walls and sky\n",
    "\n",
    "The view factor between the top surface of finite wall $w$ tilted relative to an infinite plane of the ground $g$ is [[5](http://www.thermalradiation.net/sectionc/C-9.html), [6](http://www.diva-portal.org/smash/get/diva2:1305017/FULLTEXT01.pdf), eq. 4.18]:\n",
    "\n",
    "$$ F_{w,g} = \\frac {1 - \\cos \\beta}{2}$$\n",
    "\n",
    "Therefore, the view factor between the tilted wall $w$ and the sky dome $s$ is [[6](http://www.diva-portal.org/smash/get/diva2:1305017/FULLTEXT01.pdf), eq. 4.17]:\n",
    "$$ F_{w,s} = 1 - F_{w,g} = \\frac {1 + \\cos \\beta}{2}$$"
   ]
  },
  {
   "attachments": {},
   "cell_type": "markdown",
   "id": "6b226466-40de-4678-9673-fec8a811b873",
   "metadata": {
    "tags": []
   },
   "source": [
    "##### Thermal network for long wave radiation\n",
    "\n",
    "The long-wave heat exchange between surfaces may be modelled by using the concept of [radiosity](https://en.m.wikipedia.org/wiki/Radiosity_(radiometry)) and then linearizing the radiative heat exchange. \n",
    "\n",
    "![LW_rad_excg](./figures/03_LW_rad_excg.svg)\n",
    "> Figure 4. Radiative long-wave heat exchange between two surfaces: a) modeled by [emmitance](https://en.m.wikipedia.org/wiki/Radiant_exitance) (source) and [radiosity](https://en.m.wikipedia.org/wiki/Radiosity_(radiometry)) (nodes); b) modeled by linearization of emmitance (temperature sources) and radiosity (temperature nodes).\n",
    "\n",
    "For two surfaces, shown by temperature nodes 4 and 5 in Figure 3 and by nodes 1 and 2 in Figure 4, the [conductances](https://en.m.wikipedia.org/wiki/Radiosity_(radiometry)#Circuit_analogy), in m², for radiative heat exchange expressed by using the emmitance (or the [radiant excitance](https://en.m.wikipedia.org/wiki/Radiant_exitance))  of the black body, the [radiosity](https://en.m.wikipedia.org/wiki/Radiosity_(radiometry)), and the [reciprocity](https://en.m.wikipedia.org/wiki/View_factor#Reciprocity) of view factors are:\n",
    "\n",
    "$$G_{1}^{r} = \\frac{\\varepsilon_1}{1 - \\varepsilon_1} S_1$$\n",
    "\n",
    "$$G_{1,2}^{r} = F_{1,2} S_1 = F_{2,1} S_2$$\n",
    "\n",
    "$$G_{2}^{r} = \\frac{\\varepsilon_2}{1 - \\varepsilon_2} S_2$$\n",
    "\n",
    "where:\n",
    "- $\\varepsilon_1$ and $\\varepsilon_2$ are the [emmisivities](https://en.m.wikipedia.org/wiki/Emissivity) of the surfaces 1 and 2;\n",
    "- $S_1$ and $S_2$ - areas of the surfaces 1 and 2, m²;\n",
    "- $F_{1,2}$ - [view factor](https://en.m.wikipedia.org/wiki/View_factor) between surfaces 1 and 2.\n",
    "\n",
    "\n",
    "The [net flows leaving the surfaces 1 and 2](https://en.m.wikipedia.org/wiki/Radiosity_(radiometry)#Circuit_analogy) are:\n",
    "\n",
    "$$q_{net,1} = \\frac{\\varepsilon_1}{1 - \\varepsilon_1} S_1 (M^o_1 - J_1)= G^r_1 (M_1^o - J_1)$$\n",
    "\n",
    "$$q_{net,2} = \\frac{\\varepsilon_2}{1 - \\varepsilon_2} S_2 (M^o_2 - J_2)= G^r_2 (M_2^o - J_2)$$\n",
    "\n",
    "respectively, where:\n",
    "- $M^o_1$ and $M^o_2$ are the [emmitances](https://en.m.wikipedia.org/wiki/Radiant_exitance) of the surfaces 1 and 2 when emmiting as black bodies, $M^o = \\sigma T^4$, W/m²;\n",
    "- $J_1$ and $J_2$ - [radiosities](https://en.m.wikipedia.org/wiki/Radiosity_(radiometry)) of surfaces 1 and 2, W/m²;\n",
    "- $G^r_1$ and $G^r_2$ - conductances for long wave radiative heat exchange, m².\n",
    "\n",
    "The [net flow between surfaces 1 and 2](https://en.m.wikipedia.org/wiki/Radiosity_(radiometry)#Circuit_analogy) is:\n",
    "\n",
    "$$q_{1,2} = F_{1,2} S_1 (J_1 - J_2) = F_{2,1} S_2 (J_1 - J_2)= G_{1,2}^r (J_1 - J_2)$$\n",
    "\n",
    "In order to express the long-wave radiative exchange as a function of temperature differences, a linearization of the difference of temperatures $T_1^4 - T_2^4$ may be used:\n",
    "\n",
    "$$T_1^4 - T_2^4 = (T_1^2 + T_2^2)(T_1^2 - T_2^2) = (T_1^2 + T_2^2)(T_1 + T_2)(T_1 - T_2) = 4 \\bar{T}^3 (T_1 - T_2)$$\n",
    "\n",
    "where the mean temperature $\\bar{T}$, measured in kelvin, is:\n",
    "\n",
    "$$\\bar{T} =\\sqrt[3]{ \\frac{(T_1^2 + T_2^2)(T_1 + T_2)}{4}}$$\n",
    "\n",
    "The evaluation of mean temperaure, $\\bar{T}$, requires the values of the surface tempetratures, $T_1$ and $T_2$. An initial guess can be used (and then an iterative process, for a more precise evaluation).\n",
    "\n",
    "After linearization, the conductances, in W/K, for radiative heat exchange are:\n",
    "\n",
    "$$G_{1} = 4 \\sigma \\bar{T}^3 \\frac{\\varepsilon_1}{1 - \\varepsilon_1} S_1$$\n",
    "\n",
    "$$G_{1,2} = 4 \\sigma \\bar{T}^3 F_{1,2} S_1 = 4 \\sigma \\bar{T}^3 F_{2,1} S_2$$\n",
    "\n",
    "$$G_{2} = 4 \\sigma \\bar{T}^3 \\frac{\\varepsilon_2}{1 - \\varepsilon_2} S_2$$"
   ]
  },
  {
   "attachments": {},
   "cell_type": "markdown",
   "id": "939d7aac-b49a-4ff6-be6b-c0e227b5cd21",
   "metadata": {
    "tags": []
   },
   "source": [
    "The equivalent conductance, in W/K, for the radiative long-wave heat exchange between the wall and the glass window is:\n",
    "$$G = \\frac{1}{1/G_1 + 1/G_{1,2} + 1/G_2}$$"
   ]
  },
  {
   "attachments": {},
   "cell_type": "markdown",
   "id": "760164d6-ad67-4326-8c5f-dbc7c2db3c36",
   "metadata": {},
   "source": [
    "*Note*: Resistances in [series or parallel](https://en.m.wikipedia.org/wiki/Series_and_parallel_circuits) can be replaced by their equivalent resistance. "
   ]
  },
  {
   "attachments": {},
   "cell_type": "markdown",
   "id": "bf582ff0-b249-4c75-ac60-07574b741a0a",
   "metadata": {
    "tags": []
   },
   "source": [
    "#### Advection\n",
    "\n",
    "The [volumetric flow rate](https://en.m.wikipedia.org/wiki/Volumetric_flow_rate) of the air, in m³/s, is:\n",
    "\n",
    "$$\\dot{V}_a = \\frac{\\mathrm{ACH}}{3600} V_a$$\n",
    "\n",
    "where:\n",
    "- $\\mathrm{ACH}$  ([air changes per hour](https://en.m.wikipedia.org/wiki/Air_changes_per_hour)) is the air infiltration rate, 1/h;\n",
    "- $3600$ - number of seconds in one hour, s/h;\n",
    "- $V_a$ - volume of the air in the thermal zone, m³."
   ]
  },
  {
   "attachments": {},
   "cell_type": "markdown",
   "id": "aa9cba86-76bc-4650-ba65-4a735ddca022",
   "metadata": {
    "tags": []
   },
   "source": [
    "The net flow rate that the building receives by [advection](https://en.m.wikipedia.org/wiki/Advection), i.e., introducing outdoor air at temperature $T_o$ and extracting indoor air at temperature $\\theta_i$ by [ventilation](https://en.m.wikipedia.org/wiki/Ventilation_(architecture)) and/or [air infiltration](https://en.m.wikipedia.org/wiki/Infiltration_(HVAC)), is:\n",
    "\n",
    "$$q_v = \\dot{m}_a c_a (T_o - \\theta_i) = \\rho_a c_a \\dot{V}_a (T_o - \\theta_i)$$\n",
    "\n",
    "where:\n",
    "- $\\dot{m}_a$ is the [mass flow rate](https://en.m.wikipedia.org/wiki/Mass_flow_rate) of air, kg/s;\n",
    "- $\\dot{V}_a$ - [volumetric flow rate](https://en.m.wikipedia.org/wiki/Volumetric_flow_rate), m³/s;\n",
    "- $c_a$ - [specific heat capacity](https://en.m.wikipedia.org/wiki/Specific_heat_capacity) of the air, J/kg·K;\n",
    "- $\\rho_a$ - [density](https://en.m.wikipedia.org/wiki/Density) of air, kg/m³;\n",
    "- $T_o$ - outdoor air temperature, °C (noted in majuscule because it is a *temperature source* or *input variable*);\n",
    "- $\\theta_i$ - indoor air temperature, °C (noted in minuscule because it is a *dependent temperature* or *output variable*).\n",
    "\n",
    "Therefore, the conductance of [advection](https://en.m.wikipedia.org/wiki/Advection) by [ventilation](https://en.m.wikipedia.org/wiki/Ventilation_(architecture)) and/or [infiltration](https://en.m.wikipedia.org/wiki/Infiltration_(HVAC)), in W/K, is:\n",
    "\n",
    "$$G_v = \\rho_a c_a \\dot{V}_a$$"
   ]
  },
  {
   "attachments": {},
   "cell_type": "markdown",
   "id": "ba620d83-b3da-4adf-a7ae-6e9dc8bd1516",
   "metadata": {},
   "source": [
    "> Table 1. Typical values for the ventilation rates (in air changes per hour, ACH) as a function of the position of windows (H. Recknagel, E. Spenger, E_R Schramek (2013), Table 1.12.1-4)\n",
    "\n",
    "| Position of windows                     | Ventilation rate, ACH [h⁻ⁱ] |\n",
    "| --------------------------------------- | ---------------------- |\n",
    "| Window closed, doors closed             | 0 to 0.5 |\n",
    "| Tilted window, venetian blind closed    | 0.3 to 1.5 |\n",
    "| Tilted window, whitout venetian blind   | 0.8 to 4.0 |\n",
    "| Window half opened                      | 5 to 10 |\n",
    "| Window fully open                       | 9 to 15 |\n",
    "| Window and French window fully open (cross ventilation) | about 40 |\n"
   ]
  },
  {
   "attachments": {},
   "cell_type": "markdown",
   "id": "3344af80-e018-4cb2-a01c-de4cc9b967d0",
   "metadata": {
    "tags": []
   },
   "source": [
    "#### Proportional controller\n",
    "\n",
    "In the simplest representation, the [HVAC system](https://en.m.wikipedia.org/wiki/HVAC_control_system) can be considered as a [proportional controller](https://en.m.wikipedia.org/wiki/Proportional_control) that adjusts the heat flow rate $q_{HVAC}$ in order to control the indoor temperature $\\theta_i$ at its setpoint value $T_{i,sp}$. The heat flow-rate, in W, injected by the [HVAC](https://en.m.wikipedia.org/wiki/Heating,_ventilation,_and_air_conditioning) system into the controlled space is:\n",
    "\n",
    "$$ q_{HVAC} = K_p (T_{i, sp} - \\theta_i)$$\n",
    "\n",
    "where:\n",
    "- $K_p$ is the proportional gain, W/K;\n",
    "- $T_{i, sp}$ - indoor temperature [setpoint](https://en.m.wikipedia.org/wiki/Setpoint_(control_system)), °C (noted in majuscule because it is an *input, i.e. independent, variable*);\n",
    "- $\\theta_i$ - indoor temperature, °C (noted in minuscule because it is a *output, i.e. dependent variable*).\n",
    "\n",
    "This equation shows that the proportional controller can be modelled by a source of temperature, $T_{i, sp}$, and a conductance, $K_p$. If the controller gain tends towards:\n",
    "- infinity, $K_p \\rightarrow \\infty$, then the controller is perfect, $\\theta_i \\rightarrow T_{i, sp}$.\n",
    "- zero, $K_p \\rightarrow 0$, then the controller is not acting and the building is in free-running, i.e. $q_{HVAC} = 0$ ([Ghiaus 2003](https://doi.org/10.1016/S0378-7788(02)00110-X)).\n",
    "\n",
    "*Note*: Respecting the [sign convention](https://en.m.wikipedia.org/wiki/Passive_sign_convention#Active_and_passive_components), the flow rate $q_{HVAC}$ is oriented from the lower to the higher potential of the temperature source $T_{i,sp}$."
   ]
  },
  {
   "cell_type": "code",
   "execution_count": 16,
   "id": "b2e864e6-7854-465c-8049-18967065e84f",
   "metadata": {},
   "outputs": [],
   "source": [
    "# P-controler gain\n",
    "Kp = 1e4            # almost perfect controller Kp -> ∞\n",
    "Kp = 1e-3           # no controller Kp -> 0\n",
    "Kp = 0"
   ]
  },
  {
   "attachments": {},
   "cell_type": "markdown",
   "id": "e983632f-041d-4066-a00a-74a2f1bbe18b",
   "metadata": {
    "tags": []
   },
   "source": [
    "#### Conductances in series and/or parallel\n",
    "If conductances are connected to temperature nodes which have no capacity and/or flow rate source, then the conductances can be considered in [series or parallel](https://en.m.wikipedia.org/wiki/Series_and_parallel_circuits) (depending on the connection). Let's consider, for example, the outdoor side of the glass window (Figure 3): the outdoor convection conductance and the conduction conductance (corresponding to half of the width of the glass) are in series:\n",
    "\n",
    "$$ G_{gs} = \\frac{1}{1/G_{g,cv.out } + 1/(2 G_{g,cd})} =  \n",
    "\\frac{1}{\\frac{1}{h_{out} S_g} + \\frac{w / 2}{\\lambda S_g}}\n",
    "$$"
   ]
  },
  {
   "attachments": {},
   "cell_type": "markdown",
   "id": "096daa39-110e-4e99-bab0-00dabab6d17b",
   "metadata": {
    "tags": []
   },
   "source": [
    "### Thermal capacities\n",
    "#### Walls\n",
    "The [thermal capacities](https://en.m.wikipedia.org/wiki/Heat_capacity) of the wall, in J/kg, are:\n",
    "\n",
    "$$C_w= m_w c_w= \\rho_w c_w w_w S_w$$\n",
    "\n",
    "where:\n",
    "- $m_w = \\rho_w w_w S_w$ is the mass of the wall, kg;\n",
    "- $c_w$ - [specific heat capacity](https://en.m.wikipedia.org/wiki/Specific_heat_capacity), J/(kg⋅K);\n",
    "- $\\rho_w$ - [density](https://en.m.wikipedia.org/wiki/Density), kg/m³;\n",
    "- $w_w$ - width of the wall, m;\n",
    "- $S_w$ - surface area of the wall, m²."
   ]
  },
  {
   "cell_type": "code",
   "execution_count": 18,
   "id": "069c5751-493f-46a9-9d62-d415c8c86c36",
   "metadata": {},
   "outputs": [],
   "source": [
    "C = wall['Density'] * wall['Specific heat'] * wall['Surface'] * wall['Width']"
   ]
  },
  {
   "attachments": {},
   "cell_type": "markdown",
   "id": "c2d7d457-941e-43bf-acb5-59598eaec544",
   "metadata": {
    "tags": []
   },
   "source": [
    "#### Air\n",
    "Similarly, the thermal capacity of the air, in J/kg, is:\n",
    "\n",
    "$$C_a = m_a c_a = \\rho_a c_a V_a$$\n",
    "\n",
    "where:\n",
    "- $m_a = \\rho_a V_a$ is the mass of the air, kg;\n",
    "- $\\rho_w$ - [density](https://en.m.wikipedia.org/wiki/Density) of air, kg/m³;\n",
    "- $c_a$ - specific heat capacity of the air, J/(kg⋅K);\n",
    "- $V_a$ - volume of the air in the thermal zone, m³."
   ]
  },
  {
   "attachments": {},
   "cell_type": "markdown",
   "id": "9519c7be-a11b-46cc-b253-c843122e1f8d",
   "metadata": {},
   "source": [
    "### Temperature sources\n",
    "\n",
    "The [temperature sources](https://en.m.wikipedia.org/wiki/Voltage_source#Ideal_voltage_sources) model temperatures which vary independently of what happens in the themal circuit; they are inputs of the physical model. Generally, the temperature sources are:\n",
    "- outdoor air and ground temperature;\n",
    "- temperature of adjacent spaces which have controlled temperature;\n",
    "- setpoint temperature."
   ]
  },
  {
   "attachments": {},
   "cell_type": "markdown",
   "id": "f12176f0-3744-4a96-8f92-e9253e4d6e34",
   "metadata": {
    "jp-MarkdownHeadingCollapsed": true,
    "tags": []
   },
   "source": [
    "#### Outdoor air and ground temperature\n",
    "The hourly values of outdoor temperatures can be obtained from weather data files downloadable from the [Repository of free climate data for building performance simulation](http://climate.onebuilding.org) or from [Weather data for EnergyPlus®](https://energyplus.net/weather) (see the tutorial on [Weather data and solar radiation](01WeatherData.ipynb))."
   ]
  },
  {
   "attachments": {},
   "cell_type": "markdown",
   "id": "88477ba9-030d-49c5-881a-7457ece60d23",
   "metadata": {},
   "source": [
    "#### Adjacent spaces with controlled temperature\n",
    "\n",
    "If the adjacent spaces are controlled by a HVAC system, it means that their temperature can be considered independent of the studied thermal zone(s); therefore, they can be modelled by a temperature source."
   ]
  },
  {
   "attachments": {},
   "cell_type": "markdown",
   "id": "5be6f99c-ea56-410b-b123-655dd53a0c8a",
   "metadata": {
    "tags": []
   },
   "source": [
    "#### Setpoint temperature\n",
    "\n",
    "[Setpoint](https://en.m.wikipedia.org/wiki/Setpoint_(control_system)) temperature does not depend on the heat transfer processes of the analyzed thermal zone. If the HVAC system can deliver the heat flow rate:\n",
    "\n",
    "$$ q_{HVAC} = K_p (T_{i, sp} - \\theta_i)$$\n",
    "\n",
    "where:\n",
    "- $K_p$ is the proportional gain, W/K;\n",
    "- $T_{i, sp}$ - indoor temperature [setpoint](https://en.m.wikipedia.org/wiki/Setpoint_(control_system)), °C;\n",
    "- $\\theta_i$ - indoor temperature, °C,\n",
    "\n",
    "then the setpoint for indoor temperature, $T_{i, sp}$, may be modelled by a source of temperature."
   ]
  },
  {
   "attachments": {},
   "cell_type": "markdown",
   "id": "491c73f6-d94f-4987-8472-6f016895a22c",
   "metadata": {
    "tags": []
   },
   "source": [
    "### Heat flow rate sources\n",
    "The [heat flow rate sources](https://en.m.wikipedia.org/wiki/Current_source#Background) model flow rates which vary idependently of what happens in the themal circuit. They are inputs of the physical model. Generally, the heat flow rate sources are:\n",
    "- solar radiation absorbed by the walls;\n",
    "- internal auxiliary sources.\n",
    "\n",
    "#### Solar radiation absorbed by the walls\n",
    "\n",
    "The [direct](https://en.m.wikipedia.org/wiki/Direct_insolation), diffuse and reflected components of the [solar radiation](https://en.m.wikipedia.org/wiki/Solar_irradiance) on a tilted surface can be estimated from weather data by using the function `sol_rad_tilt_surf` from the module `dm4bem` (see the tutorial on [Weather data and solar radiation](../t01/t01ReadWeatherData.ipynb))."
   ]
  },
  {
   "attachments": {},
   "cell_type": "markdown",
   "id": "4524b0ee-442a-4d8d-8972-23e520ec706a",
   "metadata": {
    "tags": []
   },
   "source": [
    "##### External wall\n",
    "\n",
    "The radiation absorbed by the outdoor surface of the wall is:\n",
    "\n",
    "$$\\Phi_o = \\alpha_{w,SW} S_w E_{tot}$$\n",
    "\n",
    "where:\n",
    "- $\\alpha_{w,SW}$ is the [absorptance](https://en.m.wikipedia.org/wiki/Absorptance) of the outdoor surface of the wall in short wave, $0 \\leqslant \\alpha_{w,SW} \\leqslant 1$;\n",
    "- $S_w$ - surface area of the wall, m²;\n",
    "- $E_{tot}$ - total [solar irradiance](https://en.m.wikipedia.org/wiki/Solar_irradiance) on the wall, W/m².\n",
    "\n",
    "\n",
    "\n",
    "##### Internal walls\n",
    "\n",
    "The total shortwave incident irradiance on the wall $i$, $E_i$, may be estimated as a function of the direct solar irradiance incident on the surface of the walls, $E_{i}^{o}$:\n",
    "\n",
    "$$S_i E_i = S_i E_{i}^{o} + \\sum_{j=1}^{n} F_{j,i} S_j \\rho_j E_j$$\n",
    "\n",
    "where:\n",
    "- $S_i$ is the area of the surface of the wall $i$, m²;\n",
    "- $E_i$ - total irradiance received directly and by multiple reflections on surface $i$, W/m²;\n",
    "- $E_{i}^{o}$ - irradiance received directly from the sun on surface $i$, W/m²;\n",
    "- $F_{j, i}$ - [view factor](https://en.m.wikipedia.org/wiki/View_factor) between surface $j$ and surface $i$, $0 ⩽ F_{j,i} ⩽ 1$;\n",
    "- $\\rho_j$ - [reflectance](https://en.m.wikipedia.org/wiki/Reflectance) of surface $j$, $0 ⩽ \\rho_j ⩽ 1$.\n",
    "\n",
    "\n",
    "By taking into account the [reciprocity](https://en.m.wikipedia.org/wiki/View_factor#Reciprocity) of the view factors: $S_i F_{i,j} = S_j F_{j,i}$, the set of previous equation becomes:\n",
    "\n",
    "$$\n",
    "\\begin{bmatrix}\n",
    "1 - \\rho_1 F_{1,1} & - \\rho_2 F_{1,2}     & ...  & - \\rho_n F_{1,n}\\\\ \n",
    "- \\rho_1 F_{2,1}   & 1 - \\rho_2 F_{2,2}  & ...  & - \\rho_n F_{2,n} \\\\ \n",
    "...                         & ...                            & ...  & ... \\\\ \n",
    "- \\rho_1 F_{n,1}  & - \\rho_2 F_{n,1}      & ... & 1 - \\rho_n F_{n,n}\n",
    "\\end{bmatrix} \\begin{bmatrix}\n",
    "E_1\\\\ \n",
    "E_2\\\\ \n",
    "...\\\\ \n",
    "E_n\n",
    "\\end{bmatrix} = \\begin{bmatrix}\n",
    "E_{1}^{o}\\\\ \n",
    "E_{2}^{o}\\\\ \n",
    "...\\\\ \n",
    "E_{n}^{o}\n",
    "\\end{bmatrix}\n",
    "$$\n",
    "\n",
    "or\n",
    "\n",
    "$$(I - \\rho \\circ F) E = E^o$$\n",
    "\n",
    "The unknown total [irradiances](https://en.m.wikipedia.org/wiki/Irradiance) on walls, in W/m², are then\n",
    "\n",
    "$$ E = (I - \\rho \\circ F)^{-1} E^o$$\n",
    "\n",
    "where:\n",
    "\n",
    "- the symbol $\\circ$ represents the [Hadamard (or element-wise) product](https://en.wikipedia.org/wiki/Hadamard_product_(matrices));\n",
    "\n",
    "$I =\\begin{bmatrix}\n",
    "1 & 0 & ... & 0 \\\\ \n",
    "0 & 1 & ... & 0 \\\\ \n",
    "... & ... & ... & ...\\\\ \n",
    "0 & 0 & ... & 1 \n",
    "\\end{bmatrix}, $ is the [identity matrix](https://en.m.wikipedia.org/wiki/Identity_matrix);\n",
    "\n",
    "$\\rho = \\begin{bmatrix}\n",
    "\\rho_1\\\\ \n",
    "\\rho_2\\\\ \n",
    "...\\\\ \n",
    "\\rho_n\n",
    "\\end{bmatrix}$ - vector of [reflectances](https://en.m.wikipedia.org/wiki/Reflectance), $0 \\le \\rho_{i,j} \\le 1$;\n",
    "\n",
    "$F = \\begin{bmatrix}\n",
    "F_{1,1} & F_{1,2} & ... & F_{1,n}\\\\ \n",
    "F_{2,1} & F_{2,2} & ... & F_{2,n} \\\\ \n",
    "... & ... & ... & ...\\\\ \n",
    "F_{n,1} & F_{n,2} & ... & F_{n,n}\n",
    "\\end{bmatrix}$ - matrix of [view factors](https://en.m.wikipedia.org/wiki/View_factor), $0 \\le F_{i,j} \\le 1$;\n",
    "\n",
    "$E^o = \\begin{bmatrix}\n",
    "E_{1}^{o}\\\\ \n",
    "E_{2}^{o}\\\\ \n",
    "...\\\\ \n",
    "E_{n}^{o}\n",
    "\\end{bmatrix}$ - vector of [direct solar irradiances](https://en.m.wikipedia.org/wiki/Solar_irradiance), W/m²;\n",
    "\n",
    "$E = \\begin{bmatrix}\n",
    "E_1\\\\ \n",
    "E_2\\\\ \n",
    "...\\\\ \n",
    "E_n\n",
    "\\end{bmatrix}$ - vector of unknown total irradiances, W/m².\n",
    "\n",
    "\n",
    "The radiative short wave (i.e. solar) heat flow rate on each surface is:\n",
    "\n",
    "$$ \\Phi = S E $$\n",
    "\n",
    "where:\n",
    "\n",
    "$\\Phi = \\begin{bmatrix}\n",
    "\\Phi_1\\\\ \n",
    "\\Phi_2\\\\ \n",
    "...\\\\ \n",
    "\\Phi_n\n",
    "\\end{bmatrix}$ - vector of total heat flow rates due to solar radiation, W; \n",
    "\n",
    "$S =\\begin{bmatrix}\n",
    "S_1 & 0 & ... & 0 \\\\ \n",
    "0 & S_2 & ... & 0 \\\\ \n",
    "... & ... & ... & ...\\\\ \n",
    "0 & 0 & ... & S_n \n",
    "\\end{bmatrix}$ - matrix of surface areas of walls $i$, m²."
   ]
  },
  {
   "attachments": {},
   "cell_type": "markdown",
   "id": "55178565-8a30-4c8b-9760-6fe48a5548fc",
   "metadata": {},
   "source": [
    "#### Internal sources\n",
    "\n",
    "Internal flow rates are generated by occupants and by the electrical equipment (with values given for [offices](https://energieplus-lesite.be/theories/bilan-thermique44/charges-thermiques-internes-pour-les-bureaux/), [commercial spaces](https://energieplus-lesite.be/theories/bilan-thermique44/charges-thermiques-internes-pour-les-commerces/), etc.)."
   ]
  },
  {
   "attachments": {},
   "cell_type": "markdown",
   "id": "5a994858-649e-498d-8115-ad658b4c253d",
   "metadata": {
    "tags": []
   },
   "source": [
    "## System of algebraic-differential equations (DAE)\n",
    "\n",
    "The analysis of a thermal circuit, or the direct problem ([Ghiaus 2022](https://hal.archives-ouvertes.fr/hal-03484064/document)), means to find the temperatures in the nodes, $\\theta$, and the heat flows on the branches, $q$, i.e. to solve for $\\theta$ and $q$ the system of [Differential-Algebraic Equations (DAE)](https://en.m.wikipedia.org/wiki/Differential-algebraic_system_of_equations) (Figures 3 and 4):\n",
    "\n",
    "$$\\left\\{\\begin{array}{ll}\n",
    "C \\dot{\\theta} = -(A^T G A) \\theta + A^T G b + f\\\\ \n",
    "q = G (-A \\theta + b)\n",
    "\\end{array}\\right.$$\n",
    "\n",
    "where:\n",
    "- $\\theta$ is the temperature vector of size $n_\\theta$ equal to the number of nodes;\n",
    "- $q$ - heat flow vector of size $n_q$ equal to the number of branches;\n",
    "- $A$ - [incidence matrix](https://en.m.wikipedia.org/wiki/Incidence_matrix) of size $n_q$ rows and $n_{\\theta}$ columns, where $n_q$ is the number of flow branches and $n_{\\theta}$  is the number of temperature nodes. It shows how the temperature nodes are connected by oriented branches of heat flows:\n",
    "    - if flow *m* enters into node *n*, then the element (*m, n*) of the matrix $A$ is 1, i.e., $A_{m,n} = 1$;\n",
    "    - if flow *m* exits from node *n*, then the element (*m, n*) of the matrix $A$ is -1, i.e., $A_{m,n} = -1$, ; \n",
    "    - if flow *m* is not connected to node *n*, then the element (*m, n*) of the matrix $A$ is 0, i.e., $A_{m,n} = 0$.\n",
    "\n",
    "- $G$ - conductance diagonal matrix of size $n_q \\times n_q$,  where $n_q$ is the number of flow branches: diagonal matrix containing the conductances. Each branch $k$ needs to contain a conductance $0 < G_{k,k} < \\infty $. \n",
    "\n",
    "- $C$ - capacity diagonal matrix of size $n_θ \\times n_θ$,  where $n_θ$ is the number of temperature nodes: diagonal matrix containing the capacities. If there is no capacity in the node *n*, then $C_{n, n} = 0$.\n",
    "\n",
    "- $b$ - temperature source vector of size $n_q$: if there is no temperature source on the branch *m*, then $b_m = 0$.\n",
    "\n",
    "- $f$ - heat flow source vector of size $n_θ$: if there is no heat flow source in the node *n*, then $f_n = 0$.\n",
    "\n",
    "The resolution is first done for temperatures, $\\theta$, by solving the equation\n",
    "$$C \\dot{\\theta} = -(A^T G A) \\theta + A^T G b + f$$\n",
    "which, generally, is a system of differential-algebraic equations (DAE). Then, the heat flow rates are found from the equation\n",
    "$$q = G (-A \\theta + b)$$\n",
    "\n",
    "![thermal_circuit](./figures/03_TCmatrices.svg)\n",
    "> Figure 4. Matrices of the system of Differential-Algebraic Equations (DAE) \n",
    "\\begin{aligned}\n",
    "  &C \\dot{\\theta} = -(A^T G A) \\theta + A^T G b + f \\\\\n",
    "  &q = G (-A \\theta + b)\n",
    "\\end{aligned}"
   ]
  },
  {
   "attachments": {},
   "cell_type": "markdown",
   "id": "e0eeaa18-4cbb-4ac3-b7e9-98b3edbb863f",
   "metadata": {},
   "source": [
    "### A: incidence matrix\n",
    "\n",
    "The [incidence matrix](https://en.m.wikipedia.org/wiki/Incidence_matrix) is:\n",
    "\n",
    "$A_{kl} = \\begin{cases}\\phantom{-}\n",
    "0 & \\text{if branch } q_k \\text{ is not connected to node }  \\theta_l \\\\ \n",
    "+1 & \\text{if branch } q_k \\text{ enters into node }  \\theta_l\\\\ \n",
    "-1 & \\text{if branch } q_k \\text{ gets out of node }  \\theta_l \n",
    "\\end{cases}$\n",
    "\n",
    "For the themal circuit shown in Figure 3,\n",
    "\n",
    "$ A = \\begin{cases}\n",
    "A_{0,0} = 1\\\\ \n",
    "A_{1,0} = -1, A_{1,1} = 1\\\\ \n",
    "...\\\\\n",
    "A_{11,6} = 1\\\\\n",
    "\\end{cases}$"
   ]
  },
  {
   "attachments": {},
   "cell_type": "markdown",
   "id": "2c2db9a2-e612-4077-8cb1-9f14a3111fb2",
   "metadata": {},
   "source": [
    "### G: conductance matrix\n",
    "\n",
    "The conductance matrix of the themal circuit shown in Figure 3 is diagonal:\n",
    "\n",
    "$ G = \\begin{cases}\n",
    "G_{0,0} = G_{w,out} & \\text{convection outside surface of the wall}\\\\ \n",
    "G_{1,1} = G_{2,2} = 2G_{cd,Layer\\,out} & \\text{conduction in half width of the outer layer}\\\\ \n",
    "G_{3,3} = G_{4,4} = 2G_{cd,Layer\\,in} & \\text{conduction in half width of the inner layer}\\\\ \n",
    "G_{5,5} = G_{LW} & \\text{long-wave radiation walls - window}\\\\\n",
    "G_{6,6} = G_{w,in} & \\text{convection inside surface of the wall}\\\\\n",
    "G_{7,7} = G_{g,in} & \\text{convection inside surface of the glass}\\\\\n",
    "G_{8,8} = G_{gs} & \\text{convection outside surface of the glass}\\\\  & \\text{and conduction in half width of the glass}\\\\\n",
    "G_{9,9} = 2G_{cd,glass} & \\text{conduction in half width of the glass}\\\\\n",
    "G_{10,10} = G_v & \\text{advection by ventilation}\\\\\n",
    "G_{11,11} = K_p & \\text{gain of proportional controller}\n",
    "\\end{cases}$"
   ]
  },
  {
   "attachments": {},
   "cell_type": "markdown",
   "id": "0d0d7f02-bc07-497f-a66b-0f07682530fb",
   "metadata": {},
   "source": [
    "### C: capacity matrix\n",
    "\n",
    "The capacity matrix of the themal circuit shown in Figure 3 is diagonal:\n",
    "\n",
    "$ C = \\begin{cases}\n",
    "C_{1,1} = C_{Layer\\,out} & \\text{outer layer of the wall}\\\\ \n",
    "C_{3,3} = C_{Layer\\,in} & \\text{inner layer of the wall}\\\\ \n",
    "C_{6,6} = C_{Air} & \\text{air of the room}\\\\ \n",
    "C_{7,7} = C_{Glass} & \\text{glass of the windows}\\\\\n",
    "\\end{cases}$\n",
    "\n",
    "The thermal capacities of the air and of the glass can be neglected or not."
   ]
  },
  {
   "attachments": {},
   "cell_type": "markdown",
   "id": "efedaf69-3d44-427b-8901-0a68be3edabd",
   "metadata": {
    "tags": []
   },
   "source": [
    "### b: temperature source vector\n",
    "\n",
    "The vector of *temperature sources* is $b$, of size $n_q$, the number of branches (in this example 12). An element of the vector $b$ corresponding to a branch without a source is zero. If the flow in a source is from the low potential to the high potential of the source (i.e. from - to +), then the source is positive. If the flow rate in the temperature source is from high potential to low potential (i.e. from + to -), then the source is negative (see [passive sign convention](https://en.m.wikipedia.org/wiki/Passive_sign_convention)). \n",
    "\n",
    "For the thermal circuit shown in Figure 3,\n",
    "\n",
    "$$b = [\\begin{matrix}\n",
    "T_o &0  &0  &0  &0  &0  &0  &0  &T_o  &0  &T_o  &T_{i,sp} \n",
    "\\end{matrix}]^T$$\n",
    "\n",
    "i.e. $b_0 = b_8 = b_{10} = T_o$ and $b_{11} = T_{i,sp}$ where:\n",
    "- $T_o$ is the outdoor temperature, °C;\n",
    "- $T_{i,sp}$ - set-point temperaure for the indoor air, °C.\n",
    "\n",
    "Since the temperature sorces $T_o$ and $T_{i,sp}$ are [time series](https://en.m.wikipedia.org/wiki/Time_series), in vector $b$ the branches which contain temperature sources are designated by $1$ and the branches without any temeprature source by $0$."
   ]
  },
  {
   "attachments": {},
   "cell_type": "markdown",
   "id": "236ad1c6-64ac-4e42-b7cb-46be011ccc75",
   "metadata": {
    "tags": []
   },
   "source": [
    "### f: heat flow source vector\n",
    "\n",
    "The vector of *heat sources* is $f$, of size $n_{\\theta}$, the number of nodes (in this example 8). An element of the vector $f$ corresponding to a node without a heat source is zero.\n",
    "\n",
    "For the thermal circuit shown in Figure 3,\n",
    "\n",
    "$$f = [\\begin{matrix}\n",
    "\\Phi_o &0  &0  &0  &\\Phi_i  &0  &\\dot{Q_a} &\\Phi_a \n",
    "\\end{matrix}]^T$$\n",
    "\n",
    "i.e. $f_0 = \\Phi_o$, $f_4 = \\Phi_i$, $f_6 = \\dot{Q_a}$, and $f_7 = \\Phi_a$, where:\n",
    "- $\\Phi_o$ - solar radiation absorbed by the outdoor surface of the wall, W;\n",
    "- $\\Phi_i$ - solar radiation absorbed by the indoor surface of the wall, W;\n",
    "- $\\dot{Q}_a$ - auxiliary heat gains (i.e., occupants, electrical devices, etc.), W;\n",
    "- $\\Phi_a$ - solar radiation absorbed by the glass, W.\n",
    "\n",
    "Since the flow rate sorces $\\Phi_o$, $\\Phi_i$, $\\dot{Q}_a$ and $\\Phi_a$ are [time series](https://en.m.wikipedia.org/wiki/Time_series), in vector $f$ the nodes which contain flow rate sources are designated by $1$ and the  nodes without any flow rate source by $0$."
   ]
  },
  {
   "attachments": {},
   "cell_type": "markdown",
   "id": "5dee59ff-9153-498a-ab9b-a1bedb6b5d35",
   "metadata": {
    "tags": []
   },
   "source": [
    "### y: output vector\n",
    "\n",
    "The vector of outputs is $y$, of size $n_{\\theta}$, the number of nodes (in this example 8). The non-zero values of $y$ indicate the nodes which are the outputs of the model.\n",
    "\n",
    "For the thermal circuit shown in Figure 3, if the output is the indoor air temperature, then the output vector is:\n",
    "\n",
    "$$y = [\\begin{matrix}\n",
    "0  &0  &0  &0  &0  &0  &\\theta_6 &0 \n",
    "\\end{matrix}]^T$$\n",
    "\n",
    "In vector $y$, the nodes for which the temperatures are outputs are noted by $1$ and the other nodes by $0$."
   ]
  },
  {
   "attachments": {},
   "cell_type": "markdown",
   "id": "966dd727-c0b3-4c10-b458-6b3383219905",
   "metadata": {
    "tags": []
   },
   "source": [
    "## State-space representation\n",
    "The [differential-algebraic system of equations (DAE)](https://en.m.wikipedia.org/wiki/Differential-algebraic_system_of_equations)\n",
    "\n",
    "$$C \\dot{\\theta} = -(A^T G A) \\theta + A^T G b + f$$\n",
    "\n",
    "is transformed in [state-space representation](https://en.m.wikipedia.org/wiki/State-space_representation) ([Ghiaus 2013](https://hal.archives-ouvertes.fr/hal-03605823/document)):\n",
    "\n",
    "$$\\left\\{\\begin{array}{rr}\n",
    "\\dot{\\theta}_s=A_s \\theta_s + B_s u\\\\ \n",
    "y = C_s \\theta_s + D_s u\n",
    "\\end{array}\\right.$$\n",
    "\n",
    "where:\n",
    "- $\\theta_s$ is the vector of state variables which are the temperatures of nodes containing capacities; the elements are in the same order as in the vector of temperatures, $\\theta$; its dimension, $\\dim \\theta_s$, is equal to the number of capacities from the thermal network; for the circuit presented in Figure 3, $\\theta_s = [\\theta_1, \\theta_3, \\theta_6, \\theta_7]^T$;\n",
    "\n",
    "- $u = \\begin{bmatrix} b_T \\\\ f_Q\\end{bmatrix}$ - vector of inputs of dimension $\\dim u$ equal to the number of sources (of temperaure, $b_T$, and heat flows, $f_Q$) of the thermal network, where:\n",
    "\n",
    "    - vector $b_T$ of nonzero elements of vector $b$ of temperature sources; for the circuit presented in Figure 3, $b_T = [T_o, T_o, T_o, T_{i,sp}]^T$ corresponds to branches 0, 8, 10 and 11; \n",
    "    - vector $f_Q$ of nonzero elements of vector $f$ of flow sources; for the circuit presented in Figure 3, $f_Q = [\\Phi_o, \\Phi_i, \\dot{Q}_a, \\Phi_a]^T$ corresponds to nodes 0, 4, 6, and 7;\n",
    "    \n",
    "- $y$ - vector of outputs, a subset of vector $\\theta$ representing temperature nodes which are of interest; for the circuit presented in Figure 3, $y = \\theta_6$, the indoor temperature.\n",
    "\n",
    "- $A_s$ - state matrix, of dimension $\\dim A_s = \\dim {\\theta_s} \\times \\dim {\\theta_s}$;\n",
    "\n",
    "- $B_s$ - input matrix, of dimension $\\dim B_s = \\dim {\\theta_s} \\times \\dim u$;\n",
    "\n",
    "- $C_s$ - output matrix, of dimension $\\dim C_s = \\dim y \\times \\dim {\\theta_s}$;\n",
    "\n",
    "- $D_s$ - feedthrough (or feedforward) matrix, of dimension $\\dim D_s = \\dim y \\times \\dim u$.\n",
    "\n",
    "*Note*: The subscript $s$ of the matrices $A_s, B_s, C_s, D_s$ is used to differentiante the matrices $A_s, C_s$ of the state-space represenation of the matrices $A, C$ of the system of DAE."
   ]
  },
  {
   "attachments": {},
   "cell_type": "markdown",
   "id": "c70c3d14-d402-4fb5-a7d0-18a83f556c97",
   "metadata": {
    "tags": []
   },
   "source": [
    "The [state-space representation](https://en.m.wikipedia.org/wiki/State-space_representation), i.e., matrices $A_s, B_s, C_s, D_s$ is obtained from the system of DAE, i.e., matrices and vectors $A, G, b, C, f, y$ ([Ghiaus 2013](https://hal.archives-ouvertes.fr/hal-03605823/document))."
   ]
  },
  {
   "attachments": {},
   "cell_type": "markdown",
   "id": "5aacac92-0397-464e-8217-912bf5ad7091",
   "metadata": {
    "tags": []
   },
   "source": [
    "## Steady-state\n",
    "[Steady-state](https://en.m.wikipedia.org/wiki/Steady_state) means that the term $C \\dot \\theta = 0$ in the system of DAE.\n",
    "\n",
    "In [steady-state](https://en.m.wikipedia.org/wiki/Steady_state), the model can be checked if it is incorrect. Let's consider that:\n",
    "- the controller is not active, $K_p \\rightarrow 0$,\n",
    "- the outdoor temperature is $T_o = 10 \\, \\mathrm{^\\circ C}$,\n",
    "- the indoor temperature setpoint is $T_{i,sp} = 20 \\, \\mathrm{^\\circ C}$,\n",
    "- all flow rate sources are zero."
   ]
  },
  {
   "attachments": {},
   "cell_type": "markdown",
   "id": "528c0234-44d8-4f99-97b9-b43615af5761",
   "metadata": {
    "tags": []
   },
   "source": [
    "*Note*: Steady-state analysis is a test of [falsification (refutability)](https://en.m.wikipedia.org/wiki/Falsifiability) of the model, not a [verification and validation](https://en.m.wikipedia.org/wiki/Verification_and_validation). If the model does not pass the steady-state test, it means that it is wrong. If the model passes the steady-state test, it does not mean that it is correct. For example, the values of the capacities in matrix $C$ or of the conductances in matrix $G$ can be wrong even when the steady-state test is passed. "
   ]
  },
  {
   "attachments": {},
   "cell_type": "markdown",
   "id": "2d9fe093-30f3-4654-8836-c69b5c4215a3",
   "metadata": {
    "tags": []
   },
   "source": [
    "### System of Diferential Algebraic Equations (DAE)\n",
    "The value of temperature in [steady-state](https://en.m.wikipedia.org/wiki/Steady_state) is obtained from the system of DAE by considering that $C \\dot{\\theta} = 0$:\n",
    "\n",
    "$$\\theta_{ss} = (A^T G A)^{-1}(A^T G b + f)$$\n",
    "\n",
    "For the conditions mentioned above, in steady-state, all temperatures $\\theta_0 ... \\theta_7$, including the indoor air temperature $\\theta_6$, are equal to $T_o = 10 \\, \\mathrm{^\\circ C}$."
   ]
  },
  {
   "attachments": {},
   "cell_type": "markdown",
   "id": "a29cd51c-08bf-4395-a070-d2c074eee82d",
   "metadata": {
    "tags": []
   },
   "source": [
    "### State-space representation\n",
    "The input vector $u$ is obtained by stacking the vectors $b_T$ and $f_Q$:\n",
    "\n",
    "$$u = \\begin{bmatrix} b_T \\\\ f_Q\\end{bmatrix}$$\n",
    "\n",
    "where:\n",
    "- $b_T$ is a vector of the nonzero elements of vector $b$ of temperature sources. For the circuit presented in Figure 3, $b_T = [T_o, T_o, T_o, T_{i,sp}]^T$ corresponding to branches 0, 8, 10 and 11, where:\n",
    "    - $T_o$ - outdoor temperature, °C;\n",
    "    - $T_{i,sp}$ - set-point temperaure for the indoor air, °C.\n",
    "- $f_Q$ - vector the nonzero elements of vector $f$ of flow sources. For the circuit presented in Figure 3, $f_Q = [\\Phi_o, \\Phi_i, \\dot{Q}_a, \\Phi_a]^T$ corresponding to nodes 0, 4, 6, and 7, where:\n",
    "    - $\\Phi_o$ - solar radiation absorbed by the outdoor surface of the wall, W;\n",
    "    - $\\Phi_i$ - solar radiation absorbed by the indoor surface of the wall, W;\n",
    "    - $\\dot{Q}_a$ - auxiliary heat gains (i.e., occupants, electrical devices, etc.), W;\n",
    "    - $\\Phi_a$ - solar radiation absorbed by the glass, W.\n",
    "\n",
    "*Note*: Zero in vectors $b$ and $f$ indicates that there is no source on the branch or in the node, respectively. However, a source can have the value zero."
   ]
  },
  {
   "attachments": {},
   "cell_type": "markdown",
   "id": "bcbf9e6a-a765-47ee-aaab-f8a4f61592e9",
   "metadata": {
    "tags": []
   },
   "source": [
    "The steady-state value of the output of the state-space representation is obtained when $\\dot \\theta_{C} = 0$:\n",
    "\n",
    "$$y_{ss} = (-C_s A_s^{-1} B_s + D_s) u$$"
   ]
  },
  {
   "attachments": {},
   "cell_type": "markdown",
   "id": "08a89aa8-1970-4f33-ae6c-5ee9f6e08eb8",
   "metadata": {},
   "source": [
    "The error between the steady-state values obtained from the system of DAE, $\\theta_6$, and the output of the state-space representation, $y_{ss}$, \n",
    "\n",
    "$$\\varepsilon = \\left | \\theta_6 - y_{ss} \\right |$$\n",
    "\n",
    "is practically zero; the slight difference is due to [numerical errors](https://en.m.wikipedia.org/wiki/Numerical_error)."
   ]
  },
  {
   "attachments": {},
   "cell_type": "markdown",
   "id": "747a5518-38c0-429a-9fbe-22154079afd1",
   "metadata": {
    "tags": []
   },
   "source": [
    "## Dynamic simulation"
   ]
  },
  {
   "attachments": {},
   "cell_type": "markdown",
   "id": "9c0d162e-389e-4de3-b59f-76580adb72ea",
   "metadata": {
    "tags": []
   },
   "source": [
    "### Time step\n",
    "\n",
    "The condition for [numerical stability](https://en.m.wikipedia.org/wiki/Euler_method#Numerical_stability) of [Euler explicit integration](https://en.m.wikipedia.org/wiki/Numerical_methods_for_ordinary_differential_equations#Euler_method) method is\n",
    "\n",
    "$$\\left |  \\lambda_i \\Delta t + 1 \\right | < 1, \\forall \\lambda_i, $$\n",
    "\n",
    "i.e. in the complex plane, $\\lambda_i \\Delta t$ is inside a circle of radius 1 centered in {-1, 0j}, where:\n",
    "- $\\lambda_i$ are the eigenvalues of matrix $A_s$,\n",
    "- $\\Delta t$ - time step.\n",
    "\n",
    "For positive real eigenvalues $\\left \\{ \\lambda \\in \\Re |\\lambda >0  \\right \\}$, which is the case of thermal networks, the above condition [becomes](http://www.math.iit.edu/~fass/478578_Chapter_4.pdf)\n",
    "\n",
    "$$- \\lambda_i \\Delta t - 1  < 1, \\forall \\lambda_i, $$\n",
    "\n",
    "or\n",
    "\n",
    "$$ 0 < \\Delta t < -\\frac{2}{\\min \\lambda_i} = 2 \\min -\\frac{1}{\\lambda_i} = 2 \\min T_i$$\n",
    "\n",
    "where $T_i$ are the [time constants](https://en.m.wikipedia.org/wiki/Time_constant), $T_i = - \\frac{1}{\\lambda_i} $"
   ]
  },
  {
   "attachments": {},
   "cell_type": "markdown",
   "id": "17f1b010-7d23-46f1-8c13-cc1e7704bc0c",
   "metadata": {},
   "source": [
    "Let's chose a time step smaller than $\\Delta t_{max} = \\min (-2 / \\lambda_i) $."
   ]
  },
  {
   "attachments": {},
   "cell_type": "markdown",
   "id": "0d83dfe8-fe63-42c9-b913-47b1019d1a00",
   "metadata": {},
   "source": [
    "### Settling time\n",
    "The [settling time](https://en.m.wikipedia.org/wiki/Step_response) is roughly 4 times the larger time constant."
   ]
  },
  {
   "attachments": {},
   "cell_type": "markdown",
   "id": "1dac581d-272f-4cdd-8843-eeb44dd6a58d",
   "metadata": {
    "tags": []
   },
   "source": [
    "### Step response\n",
    "Let's obtain the dynamic response of the system to a [step input](https://en.m.wikipedia.org/wiki/Step_response).\n",
    "\n",
    "#### Duration\n",
    "The duration of the simulation needs to be larger than the estimated [settling time](https://en.m.wikipedia.org/wiki/Settling_time). This requires a corresponding number of time steps in the time vector."
   ]
  },
  {
   "attachments": {},
   "cell_type": "markdown",
   "id": "e1cf346d-6283-4095-aa29-6dc378f54eb6",
   "metadata": {
    "tags": []
   },
   "source": [
    "#### Input vector\n",
    "In dynamic simulation, the inputs are [time series](https://en.m.wikipedia.org/wiki/Time_series), e.g., the oudoor temperature will have $n$ values $T_o = [T_{o(0)}, T_{o(1)}, ..., T_{o(n-1)}]^T$ at [discrete time](https://en.m.wikipedia.org/wiki/Discrete_time_and_continuous_time#Discrete_time) $t = [t_0, t_1, ... , t_{n-1}]^T$.\n",
    "\n",
    "The input vector $u$ of the state-space representation is obtained by stacking the vectors $b_T$ and $f_Q$ of the system of Differential Algebraic Equations:\n",
    "\n",
    "$$u = \\begin{bmatrix} b_T \\\\ f_Q\\end{bmatrix}$$\n",
    "\n",
    "where:\n",
    "- vector $b_T$ consists of the nonzero elements of vector $b$ of temperature sources; for the circuit presented in Figure 3, \n",
    "\n",
    "$$b = [\\begin{matrix}\n",
    "T_o &0  &0  &0  &0  &0  &0  &0  &T_o  &0  &T_o  &T_{i,sp} \n",
    "\\end{matrix}]^T$$\n",
    "and \n",
    "$$b_T = [T_o, T_o, T_o, T_{i,sp}]^T$$\n",
    "corresponding to branches 0, 8, 10 and 11; \n",
    "- vector $f_Q$ is the nonzero elements of vector $f$ of flow sources; for the circuit presented in Figure 3,\n",
    "\n",
    "$$f = [\\begin{matrix}\n",
    "\\Phi_o &0  &0  &0  &\\Phi_i  &0  &\\dot{Q_a} &\\Phi_a \n",
    "\\end{matrix}]^T$$\n",
    "\n",
    "and\n",
    "\n",
    "$$f_Q = [\\Phi_o, \\Phi_i, \\dot{Q}_a, \\Phi_a]^T$$\n",
    "\n",
    "corresponding to nodes 0, 4, 6, and 7.\n",
    "\n",
    "For the thermal circuit shown in Figure 3, the [time series](https://en.m.wikipedia.org/wiki/Time_series) of the input vector, $u = [u_0, u_1, ... , u_{n-1}]^T$, is:\n",
    "\n",
    "$$u = \n",
    "\\begin{bmatrix}\n",
    "T_o\\\\ \n",
    "T_o\\\\ \n",
    "T_o\\\\ \n",
    "T_{i,sp}\\\\ \n",
    "\\Phi_o\\\\ \n",
    "\\Phi_i\\\\ \n",
    "\\dot{Q}_a\\\\ \n",
    "\\Phi_a\n",
    "\\end{bmatrix}\n",
    "= \\begin{bmatrix}\n",
    "T_{o(0)} & T_{o(1)}& ... & T_{o(n-1)}\\\\ \n",
    "T_{o(0)} & T_{o(1)}& ... & T_{o(n-1)}\\ \\\\ \n",
    "T_{o(0)} & T_{o(1)}& ... & T_{o(n-1)}\\ \\\\ \n",
    " T_{i,sp(0)} & T_{i,sp(1)}& ... & T_{i,sp(n-1)}\\ \\\\ \n",
    "\\Phi_{o,(0)} & \\Phi_{o,(1)} & ... & \\Phi_{o,(n-1)}\\\\\n",
    "\\Phi_{i,(0)} & \\Phi_{i,(1)} & ... & \\Phi_{i,(n-1)}\\\\ \n",
    " \\dot{Q}_{a(0)} & \\dot{Q}_{a(1)} & ... & \\dot{Q}_{a(n-1)}\\\\ \n",
    "\\Phi_{a,(0)} & \\Phi_{a,(1)} & ... & \\Phi_{a,(n-1)}\n",
    "\\end{bmatrix}$$\n",
    "\n",
    "where:\n",
    "- $T_o = [T_{o(0)}, T_{o(1)}, ..., T_{o(n-1)}]^T$ is the [time series](https://en.m.wikipedia.org/wiki/Time_series) of the oudoor temperature at [discrete time](https://en.m.wikipedia.org/wiki/Discrete_time_and_continuous_time#Discrete_time) $t = [t_0, t_1, ... , t_{n-1}]^T$.\n",
    "- $T_{i, sp} = [T_{{i, sp}(0)}, T_{{i, sp}(1)}, ..., T_{{i, sp}(n-1)}]^T$ is the [time series](https://en.m.wikipedia.org/wiki/Time_series) of the setpoint indoor temperature at [discrete time](https://en.m.wikipedia.org/wiki/Discrete_time_and_continuous_time#Discrete_time) $t = [t_0, t_1, ... , t_{n-1}]^T$.\n",
    "- $\\Phi_o = [\\Phi_{o(0)}, \\Phi_{o(1)}, ..., \\Phi_{o(n-1)}]^T$ is the [time series](https://en.m.wikipedia.org/wiki/Time_series) of the solar radiation absorbed by the outdoor surface of the wall at [discrete time](https://en.m.wikipedia.org/wiki/Discrete_time_and_continuous_time#Discrete_time) $t = [t_0, t_1, ... , t_{n-1}]^T$.\n",
    "- $\\Phi_i = [\\Phi_{i(0)}, \\Phi_{i(1)}, ..., \\Phi_{i(n-1)}]^T$ is the [time series](https://en.m.wikipedia.org/wiki/Time_series) of the solar radiation absorbed by the indoor surface of the wall at [discrete time](https://en.m.wikipedia.org/wiki/Discrete_time_and_continuous_time#Discrete_time) $t = [t_0, t_1, ... , t_{n-1}]^T$.\n",
    "- $\\dot{Q}_a = [\\dot{Q}_{a(0)}, \\dot{Q}_{a(1)}, ..., \\dot{Q}_{a(n-1)}]^T$ is the [time series](https://en.m.wikipedia.org/wiki/Time_series) of the auxiliary heat gains (i.e., occupants, electrical devices, etc.) at [discrete time](https://en.m.wikipedia.org/wiki/Discrete_time_and_continuous_time#Discrete_time) $t = [t_0, t_1, ... , t_{n-1}]^T$.\n",
    "- $\\Phi_a = [\\Phi_{a(0)}, \\Phi_{a(1)}, ..., \\Phi_{a(n-1)}]^T$ is the [time series](https://en.m.wikipedia.org/wiki/Time_series) of the solar radiation absorbed by the glass at [discrete time](https://en.m.wikipedia.org/wiki/Discrete_time_and_continuous_time#Discrete_time) $t = [t_0, t_1, ... , t_{n-1}]^T$.\n",
    "\n",
    "Let's consider a step response in the conditions used for steady-state analysis, i.e. $T_o = 10 \\, \\mathrm{^\\circ C}$, $T_{i,sp} = 20 \\, \\mathrm{^\\circ C}$, and all the flow sources zero (including the HVAC system)."
   ]
  },
  {
   "attachments": {},
   "cell_type": "markdown",
   "id": "c26d5657-c137-46c9-93e2-6340e13f9d7d",
   "metadata": {
    "tags": []
   },
   "source": [
    "#### Time integration"
   ]
  },
  {
   "attachments": {},
   "cell_type": "markdown",
   "id": "c6b0cfa0-301c-4bdb-8f36-8fa6d2bebee3",
   "metadata": {
    "tags": []
   },
   "source": [
    "By integrating the state-space model\n",
    "\n",
    "$$\\left\\{\\begin{array}{rr}\n",
    "\\dot{\\theta}_C=A_s \\theta_C + B_s u\\\\ \n",
    "y = C_s \\theta_C + D_s u\n",
    "\\end{array}\\right.$$\n",
    "\n",
    "by using [Euler forward (or explicit) method](https://en.m.wikipedia.org/wiki/Numerical_methods_for_ordinary_differential_equations#Euler_method) for numerical integration:\n",
    "\n",
    "$$ \\theta_{s,k+1} = (I + \\Delta t A) \\theta_{s,k} + \\Delta t B u_k $$\n",
    "\n",
    "and [Euler backward (or implicit) method](https://en.m.wikipedia.org/wiki/Numerical_methods_for_ordinary_differential_equations#Backward_Euler_method) for numerical integration:\n",
    "\n",
    "$$\\theta_{s,k+1} = (I - \\Delta t A)^{-1} ( \\theta_{s,k} + \\Delta t B u_k )$$\n",
    "\n",
    "where $k = 0, ... , n - 1$,"
   ]
  },
  {
   "attachments": {},
   "cell_type": "markdown",
   "id": "dc2b5250-4741-4dc7-9e48-f1961e6070b0",
   "metadata": {},
   "source": [
    "we obtain the outputs\n",
    "\n",
    "$$ y = C_s \\theta_s + D_s u$$\n",
    "\n",
    "for explicit and for implicit Euler methods, respectively."
   ]
  },
  {
   "attachments": {},
   "cell_type": "markdown",
   "id": "c39cb941-fafd-48ab-9a55-d42342488fb4",
   "metadata": {},
   "source": [
    "The results of explicit and implicit Euler integration are practically identical."
   ]
  },
  {
   "attachments": {},
   "cell_type": "markdown",
   "id": "0912b7bf-c1bd-4606-b5c4-095f3d4c581b",
   "metadata": {
    "tags": []
   },
   "source": [
    "### Simulation with weather data"
   ]
  },
  {
   "attachments": {},
   "cell_type": "markdown",
   "id": "71b03819-1b8d-4a54-9c8a-fb56364d07ac",
   "metadata": {},
   "source": [
    "##### Solar irradiance on the walls\n",
    "For the surface orientation given by `slope`, `azimuth`and `latitude`, and the `albedo` of the surface in front of the wall, by using the weather data, we can calculate the:\n",
    "- direct irradiance, W/m²,\n",
    "- diffuse irradiance, W/m²,\n",
    "- reflected irradiance, W/m²,\n",
    "\n",
    "for hourly solar [irradiance](https://en.m.wikipedia.org/wiki/Solar_irradiance) on a tilted surface."
   ]
  },
  {
   "attachments": {},
   "cell_type": "markdown",
   "id": "75b3c42d-2a15-4bf1-bb8f-84f7ded1b24d",
   "metadata": {
    "tags": []
   },
   "source": [
    "The total solar [irradiance](https://en.m.wikipedia.org/wiki/Solar_irradiance)  $E_{tot}$, in W/m², is the sum of direct, diffuse, and reflected components.  "
   ]
  },
  {
   "attachments": {},
   "cell_type": "markdown",
   "id": "11dc5a18-d6d6-4491-b78d-4aaaa2086d85",
   "metadata": {
    "tags": []
   },
   "source": [
    "##### Other inputs\n",
    "Let's consider the indoor temperature setpoint $T_{i,sp} = 20 \\, \\mathrm{^\\circ C}$ and the auxiliary heat flow $\\dot{Q}_a = 0 \\, \\mathrm{W}$ constant for the whole duration of the simulation."
   ]
  },
  {
   "attachments": {},
   "cell_type": "markdown",
   "id": "9c94a6eb-0994-47e7-8784-0572e76963db",
   "metadata": {
    "tags": []
   },
   "source": [
    "##### Input vector in time\n",
    "The input is formed by the vectors of time series of temperature sources $\\left [ T_o, T_o ,T_o, T_{i,sp} \\right ]^T$ and vectors of time series of the heat flow sources $\\left [ \\Phi_o, \\Phi_i, \\dot{Q_a}, \\Phi_a \\right ]^T$:\n",
    "\n",
    "$$u = \n",
    "\\begin{bmatrix}\n",
    "T_o\\\\ \n",
    "T_o\\\\ \n",
    "T_o\\\\ \n",
    "T_{i,sp}\\\\ \n",
    "\\Phi_o\\\\ \n",
    "\\Phi_i\\\\ \n",
    "\\dot{Q}_a\\\\ \n",
    "\\Phi_a\n",
    "\\end{bmatrix}\n",
    "= \\begin{bmatrix}\n",
    "T_{o(0)} & T_{o(1)}& ... & T_{o(n-1)}\\\\ \n",
    "T_{o(0)} & T_{o(1)}& ... & T_{o(n-1)}\\ \\\\ \n",
    "T_{o(0)} & T_{o(1)}& ... & T_{o(n-1)}\\ \\\\ \n",
    " T_{i,sp(0)} & T_{i,sp(1)}& ... & T_{i,sp(n-1)}\\ \\\\ \n",
    "\\Phi_{o,(0)} & \\Phi_{o,(1)} & ... & \\Phi_{o,(n-1)}\\\\\n",
    "\\Phi_{i,(0)} & \\Phi_{i,(1)} & ... & \\Phi_{i,(n-1)}\\\\ \n",
    " \\dot{Q}_{a(0)} & \\dot{Q}_{a(1)} & ... & \\dot{Q}_{a(n-1)}\\\\ \n",
    "\\Phi_{a,(0)} & \\Phi_{a,(1)} & ... & \\Phi_{a,(n-1)}\n",
    "\\end{bmatrix}$$\n",
    "\n",
    "where:\n",
    "\n",
    "$T_o$: the time series vector of outdoor temperatures (from weather data), °C.\n",
    "\n",
    "$T_{i,sp}$: time series vector of indoor setpoint temperatures, °C.\n",
    "\n",
    "$\\Phi_o$: time series vector of solar (i.e. short wave) radiation, in W, absorbed by the outdoor surface of the wall:\n",
    "\n",
    "$$\\Phi_o = \\alpha_{w,SW} S_w E_{tot}$$\n",
    "\n",
    "where:\n",
    "\n",
    "- $\\alpha_{w,SW}$ is the absortion coefficient of the outdoor surface of the wall in short wave, $0 \\leqslant \\alpha_{w,SW} \\leqslant 1$;\n",
    "- $S_w$ - surface area of the wall, m²;\n",
    "- $E_{tot}$ - total solar irradiation on the wall, W/m².\n",
    "\n",
    "$\\Phi_i$: time series vector of short wave (i.e. solar) radiation, in W, absorbed by the indoor surfaces of the wall:\n",
    "\n",
    "$$\\Phi_i = \\tau_{g,SW}  \\alpha_{w,SW} S_g E_{tot}$$\n",
    "\n",
    "where:\n",
    "- $\\tau_{g,SW}$ is the transmission coefficient of the window glass, $0 \\leqslant \\tau_{g,SW} \\leqslant 1$;\n",
    "- $\\alpha_{w,SW}$ - absortion coefficient of the indoor surface of the wall in short wave, $0 \\leqslant \\alpha_{w,SW} \\leqslant 1$;\n",
    "- $S_g$ - surface area of the window glass, m²;\n",
    "- $E_{tot}$ - total solar radiation intensity on the wall, W/m².\n",
    "\n",
    "$\\dot{Q}_a$: time vector of auxiliary heat flows (from occupants, electrical devices, etc.), W.\n",
    "\n",
    "$\\Phi_a$: time series vector of short wave (i.e. solar) radiation, in W, absorbed by the window glass:\n",
    "\n",
    "$$\\Phi_a = \\alpha_{g,SW} S_g E_{tot}$$\n",
    "\n",
    "where:\n",
    "- $\\alpha_{g,SW}$ is the absortion coefficient of the glass window in short wave, $0 \\leqslant \\alpha_{w,SW} \\leqslant 1$;\n",
    "- $S_g$ - surface area of the glass window, m²;\n",
    "- $E_{tot}$ - total solar irradiation on the wall, W/m²."
   ]
  },
  {
   "attachments": {},
   "cell_type": "markdown",
   "id": "95d371b1-e61b-4092-8a03-3c0052fa1f7e",
   "metadata": {},
   "source": [
    "#### Initial conditions\n",
    "The initial value of the state-vector can be zero or different from zero."
   ]
  },
  {
   "attachments": {},
   "cell_type": "markdown",
   "id": "a9f75273-a2d7-4bea-b30d-c8b1adeec56f",
   "metadata": {
    "tags": []
   },
   "source": [
    "#### Time integration\n",
    "[Explicit Euler](https://en.m.wikipedia.org/wiki/Numerical_methods_for_ordinary_differential_equations#Euler_method) integration in time,\n",
    "\n",
    "$$ \\theta_{s,k+1} = (I + \\Delta t A) \\theta_{s,k} + \\Delta t B u_k $$\n",
    "\n",
    "where $k = 0, ... , n - 1$,"
   ]
  },
  {
   "attachments": {},
   "cell_type": "markdown",
   "id": "42bc150f",
   "metadata": {},
   "source": []
  },
  {
   "attachments": {},
   "cell_type": "markdown",
   "id": "c7fcc96b-baa9-4582-a9df-8042f90352ed",
   "metadata": {
    "tags": []
   },
   "source": [
    "yields the time variation of state variable $\\theta$, from which we obtain the variation of the output (i.e. indoor temperature):\n",
    "\n",
    "$$y = C_s \\theta_s + D_s u$$\n",
    "\n",
    "and the variation of the heat flow of the HVAC system:\n",
    "\n",
    "$$q_{HVAC} = K_p (T_{i,sp} - \\theta_i) = K_p (T_{i,sp} - y)$$\n",
    "\n",
    "where $K_p$ is the gain of the P-controller and $T_{i,sp}$ is the HVAC-setpoint for the indoor temperature."
   ]
  },
  {
   "attachments": {},
   "cell_type": "markdown",
   "id": "08d18237-b075-4f6c-82df-fa70d47a5216",
   "metadata": {
    "jp-MarkdownHeadingCollapsed": true,
    "tags": []
   },
   "source": [
    "## References\n",
    "\n",
    "1. C. Ghiaus (2013) Causality issue in the heat balance method for calculating the design heating and cooling loads, *Energy* 50: 292-301, https://doi.org/10.1016/j.energy.2012.10.024, open access preprint: [hal-03605823](https://hal.archives-ouvertes.fr/hal-03605823/document)\n",
    "\n",
    "2. J.A. Duffie, W. A. Beckman, N. Blair (2020) [Solar Engineering of Thermal Processes](https://www.eng.uc.edu/~beaucag/Classes/SolarPowerForAfrica/Solar%20Engineering%20of%20Thermal%20Processes,%20Photovoltaics%20and%20Wind.pdf), 5th ed. John Wiley & Sons, Inc. ISBN 9781119540281\n",
    "\n",
    "3. [Réglementation Thermique 2005. Méthode de calcul Th-CE.](https://pdfslide.fr/documents/rt2005-methode-de-calcul-th-ce.html) Annexe à l’arrêté du 19 juillet 2006\n",
    "\n",
    "4. H. Recknagel, E. Sprenger, E.-R. Schramek (2013) Génie climatique, 5e edition, Dunod, Paris. ISBN 978-2-10-070451-4\n",
    "\n",
    "5. J.R. Howell et al. (2021) Thermal Radiation Heat Transfer 7th edition, ISBN 978-0-367-34707-0, [A Catalogue of Configuration Factors](http://www.thermalradiation.net/indexCat.html)\n",
    "\n",
    "6. J. Widén, J. Munkhammar (2019) [Solar Radiation Theory](http://www.diva-portal.org/smash/get/diva2:1305017/FULLTEXT01.pdf), Uppsala University"
   ]
  }
 ],
 "metadata": {
  "kernelspec": {
   "display_name": "Python 3 (ipykernel)",
   "language": "python",
   "name": "python3"
  },
  "language_info": {
   "codemirror_mode": {
    "name": "ipython",
    "version": 3
   },
   "file_extension": ".py",
   "mimetype": "text/x-python",
   "name": "python",
   "nbconvert_exporter": "python",
   "pygments_lexer": "ipython3",
   "version": "3.9.7"
  },
  "toc-autonumbering": true,
  "toc-showcode": false,
  "toc-showmarkdowntxt": false,
  "toc-showtags": false
 },
 "nbformat": 4,
 "nbformat_minor": 5
}
